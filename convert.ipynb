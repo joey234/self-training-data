{
 "metadata": {
  "language_info": {
   "codemirror_mode": {
    "name": "ipython",
    "version": 3
   },
   "file_extension": ".py",
   "mimetype": "text/x-python",
   "name": "python",
   "nbconvert_exporter": "python",
   "pygments_lexer": "ipython3",
   "version": "3.7.3-final"
  },
  "orig_nbformat": 2,
  "kernelspec": {
   "name": "python3",
   "display_name": "Python 3.7.3 64-bit ('base': conda)",
   "metadata": {
    "interpreter": {
     "hash": "b4e5a758310b6d121ef348c1327f6ff91ab8694222e354df28907659deedf47a"
    }
   }
  }
 },
 "nbformat": 4,
 "nbformat_minor": 2,
 "cells": [
  {
   "cell_type": "code",
   "execution_count": 39,
   "metadata": {},
   "outputs": [],
   "source": [
    "input_dir = 'multilingual_task_oriented_dialog_slotfilling/en'\n",
    "\n",
    "train_file = input_dir + '/train-en.conllu'\n",
    "eval_file = input_dir + '/eval-en.conllu'\n",
    "test_file = input_dir + '/test-en.conllu'"
   ]
  },
  {
   "cell_type": "code",
   "execution_count": 40,
   "metadata": {},
   "outputs": [],
   "source": [
    "output_dir = 'fb-en'\n",
    "\n",
    "output_train_file_in = output_dir + '/train/seq.in'\n",
    "output_train_file_out = output_dir + '/train/seq.out'\n",
    "output_train_file_intent = output_dir + '/train/label'\n",
    "\n",
    "output_dev_file_in = output_dir + '/dev/seq.in'\n",
    "output_dev_file_out = output_dir + '/dev/seq.out'\n",
    "output_dev_file_intent = output_dir + '/dev/label'\n",
    "\n",
    "\n",
    "output_test_file_in = output_dir + '/test/seq.in'\n",
    "output_test_file_out = output_dir + '/test/seq.out'\n",
    "output_test_file_intent = output_dir + '/test/label'"
   ]
  },
  {
   "cell_type": "code",
   "execution_count": 47,
   "metadata": {},
   "outputs": [],
   "source": [
    "def write_atis_annotation(mode):\n",
    "    output_file_in = output_dir+ '/' + mode + '/seq.in'\n",
    "    output_file_out = output_dir+ '/' + mode + '/seq.out'\n",
    "    output_file_intent = output_dir+ '/' + mode + '/label'\n",
    "    input_file = input_dir + '/' + mode +'-en.conllu'\n",
    "    samples = open(input_file,'r').read().split('\\n\\n')\n",
    "    w_in = open(output_file_in,'w',encoding= 'utf-8')\n",
    "    w_out = open(output_file_out,'w',encoding= 'utf-8')\n",
    "    w_label = open(output_file_intent,'w',encoding='utf-8')\n",
    "\n",
    "    for sample in samples:\n",
    "        # print(sample)\n",
    "        if sample == '':\n",
    "            continue\n",
    "        sample = sample.split('\\n')\n",
    "        intent = sample[1].split(': ')[1]\n",
    "        w_label.write(intent)\n",
    "        w_label.write('\\n')\n",
    "        for i,sent in enumerate(sample[3:]):\n",
    "            tokens = sent.split('\\t')\n",
    "            text = tokens[1]+ ' '\n",
    "            slot = tokens[3]+ ' '\n",
    "            if slot == 'NoLabel ':\n",
    "                slot = 'O '\n",
    "            if i == len(sample[3:]) - 1:\n",
    "                text = text.strip()\n",
    "                slot = slot.strip()\n",
    "\n",
    "            w_in.write(text)\n",
    "            w_out.write(slot)\n",
    "        w_in.write('\\n')\n",
    "        w_out.write('\\n') "
   ]
  },
  {
   "cell_type": "code",
   "execution_count": 48,
   "metadata": {},
   "outputs": [],
   "source": [
    "write_atis_annotation('train')\n",
    "write_atis_annotation('dev')\n",
    "write_atis_annotation('test')"
   ]
  },
  {
   "cell_type": "code",
   "execution_count": 33,
   "metadata": {},
   "outputs": [],
   "source": [
    "# samples = open(train_file,'r').read().split('\\n\\n')"
   ]
  },
  {
   "cell_type": "code",
   "execution_count": 34,
   "metadata": {
    "tags": []
   },
   "outputs": [],
   "source": [
    "# w_in = open(output_train_file_in,'w',encoding= 'utf-8')\n",
    "# w_out = open(output_train_file_out,'w',encoding= 'utf-8')\n",
    "# w_label = open(output_train_file_intent,'w',encoding='utf-8')\n",
    "\n",
    "# for sample in samples:\n",
    "#     # print(sample)\n",
    "#     if sample == '':\n",
    "#         continue\n",
    "#     sample = sample.split('\\n')\n",
    "#     intent = sample[1].split(': ')[1]\n",
    "#     w_label.write(intent)\n",
    "#     w_label.write('\\n')\n",
    "#     for sent in sample[3:]:\n",
    "#         tokens = sent.split('\\t')\n",
    "#         text = tokens[1]+ ' '\n",
    "#         slot = tokens[3]+ ' '\n",
    "#         if slot == 'NoLabel ':\n",
    "#             slot = 'O '\n",
    "#         w_in.write(text)\n",
    "#         w_out.write(slot)\n",
    "#     w_in.write('\\n')\n",
    "#     w_out.write('\\n')"
   ]
  },
  {
   "cell_type": "code",
   "execution_count": null,
   "metadata": {},
   "outputs": [],
   "source": []
  }
 ]
}