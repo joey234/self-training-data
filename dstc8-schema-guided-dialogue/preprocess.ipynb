{
 "cells": [
  {
   "cell_type": "code",
   "execution_count": 43,
   "metadata": {},
   "outputs": [],
   "source": [
    "import os\n",
    "import json\n",
    "list_folder = ['train', 'dev', 'test']\n",
    "list_topic = ['Alarm','Calendar', 'Weather']\n",
    "utte = []\n",
    "for folder in list_folder:\n",
    "    for file in os.listdir(folder):\n",
    "        file_path = os.path.join(folder,file)\n",
    "        if file_path != os.path.join(folder,'schema.json'):\n",
    "            f = open(file_path)\n",
    "            data = json.load(f)\n",
    "            for x in list_topic:\n",
    "                for i in range(len(data)):\n",
    "                    if data[i]['services'][0].find(x) != -1:\n",
    "                        for j in range(len(data[i]['turns'])):\n",
    "                            ok = 1\n",
    "                            for z in range(len(data[i]['turns'][j]['frames'])):\n",
    "                                if data[i]['turns'][j]['frames'][z]['service'].find(x) == -1:\n",
    "                                    ok = 0\n",
    "                            if ok == 1:\n",
    "                                utte.append(data[i]['turns'][j]['utterance'].strip())\n",
    "            "
   ]
  },
  {
   "cell_type": "code",
   "execution_count": 45,
   "metadata": {},
   "outputs": [
    {
     "name": "stdout",
     "output_type": "stream",
     "text": [
      "8898\n"
     ]
    }
   ],
   "source": [
    "file = 'fb-dstc8'\n",
    "with open(file, 'w') as f:\n",
    "    for x in utte:\n",
    "        f.write(x.replace('\\n', ' '))\n",
    "        f.write('\\n')"
   ]
  },
  {
   "cell_type": "code",
   "execution_count": null,
   "metadata": {},
   "outputs": [],
   "source": []
  }
 ],
 "metadata": {
  "kernelspec": {
   "display_name": "Python 3",
   "language": "python",
   "name": "python3"
  },
  "language_info": {
   "codemirror_mode": {
    "name": "ipython",
    "version": 3
   },
   "file_extension": ".py",
   "mimetype": "text/x-python",
   "name": "python",
   "nbconvert_exporter": "python",
   "pygments_lexer": "ipython3",
   "version": "3.7.4"
  }
 },
 "nbformat": 4,
 "nbformat_minor": 4
}